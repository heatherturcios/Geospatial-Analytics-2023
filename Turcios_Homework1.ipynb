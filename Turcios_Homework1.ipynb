{
 "cells": [
  {
   "cell_type": "markdown",
   "id": "b6ae118b-8372-4eea-851e-f91dd97a29be",
   "metadata": {},
   "source": [
    "HOMEWORK 1 -\n",
    "Heather Turcios"
   ]
  },
  {
   "cell_type": "markdown",
   "id": "b145d29f-df68-46d9-8b31-96e7c35bfdae",
   "metadata": {
    "tags": []
   },
   "source": [
    "# Solution for Exercise 2.1"
   ]
  },
  {
   "cell_type": "code",
   "execution_count": 1,
   "id": "eb672dc4-1cc0-40a6-8cfd-70188beffdb3",
   "metadata": {},
   "outputs": [],
   "source": [
    "ice_cream_rating = 10\n",
    "sleep_rating = 8\n",
    "name = 'Heather'"
   ]
  },
  {
   "cell_type": "code",
   "execution_count": 2,
   "id": "5f0468c7-3bcf-4e05-9f9a-00fbb45aa384",
   "metadata": {},
   "outputs": [
    {
     "data": {
      "text/plain": [
       "9.0"
      ]
     },
     "execution_count": 2,
     "metadata": {},
     "output_type": "execute_result"
    }
   ],
   "source": [
    "happiness_rating = (ice_cream_rating + sleep_rating) / 2\n",
    "happiness_rating"
   ]
  },
  {
   "cell_type": "code",
   "execution_count": 3,
   "id": "0e839192-db0d-454a-9209-e37b134fcd54",
   "metadata": {},
   "outputs": [
    {
     "data": {
      "text/plain": [
       "int"
      ]
     },
     "execution_count": 3,
     "metadata": {},
     "output_type": "execute_result"
    }
   ],
   "source": [
    "type(ice_cream_rating)"
   ]
  },
  {
   "cell_type": "code",
   "execution_count": 4,
   "id": "501416ad-aaeb-4553-a37b-2b8e30db4367",
   "metadata": {},
   "outputs": [
    {
     "data": {
      "text/plain": [
       "int"
      ]
     },
     "execution_count": 4,
     "metadata": {},
     "output_type": "execute_result"
    }
   ],
   "source": [
    "type(sleep_rating)"
   ]
  },
  {
   "cell_type": "code",
   "execution_count": 5,
   "id": "86fb162a-668c-4360-b931-409eaa81e547",
   "metadata": {},
   "outputs": [
    {
     "data": {
      "text/plain": [
       "str"
      ]
     },
     "execution_count": 5,
     "metadata": {},
     "output_type": "execute_result"
    }
   ],
   "source": [
    "type(name)"
   ]
  },
  {
   "cell_type": "markdown",
   "id": "0ea62d4f-def1-4bf0-8735-c24d5a83d6be",
   "metadata": {},
   "source": [
    "No surprises for the types of the variables. Integers as they are 2 whole numbers and string is the name as there are no integers."
   ]
  },
  {
   "cell_type": "code",
   "execution_count": 6,
   "id": "ec753e8a-b57f-4072-b3d5-105af1c18569",
   "metadata": {},
   "outputs": [
    {
     "name": "stdout",
     "output_type": "stream",
     "text": [
      "My name is Heather and I give eating ice cream a score of 10 out of 10!\n",
      "My sleeping enjoyment rating is 8 /10!\n",
      "Based on the factors above, my happiness rating is 9.0 of 10 or 90.0 %\n"
     ]
    }
   ],
   "source": [
    "print('My name is', name, 'and I give eating ice cream a score of', ice_cream_rating, 'out of 10!')\n",
    "print('My sleeping enjoyment rating is', sleep_rating, '/10!')\n",
    "print('Based on the factors above, my happiness rating is', happiness_rating, 'of 10 or', happiness_rating / 10 * 100, '%')"
   ]
  },
  {
   "cell_type": "markdown",
   "id": "5885e5ab-d4a1-4601-a1a1-2fe24eb14f9f",
   "metadata": {
    "tags": []
   },
   "source": [
    "# Solution for Exercise 2.2"
   ]
  },
  {
   "cell_type": "code",
   "execution_count": 7,
   "id": "4885a711-6de8-4486-807b-6412f46bdd24",
   "metadata": {},
   "outputs": [],
   "source": [
    "station_names = [\n",
    "    \"lighthouse\",\n",
    "    \"Harmaja\",\n",
    "    \"Suomenlinna aaltopoiju\",\n",
    "    \"Kumpula\",\n",
    "    \"Kaisaniemi\",\n",
    "]"
   ]
  },
  {
   "cell_type": "code",
   "execution_count": 8,
   "id": "b45cb8ca-5ddb-4861-85c2-a48295efd5ca",
   "metadata": {},
   "outputs": [],
   "source": [
    "opening_year = [\n",
    "    \"2003\",\n",
    "    \"1989\",\n",
    "    \"2016\",\n",
    "    \"2005\",\n",
    "    \"1844\",\n",
    "]   "
   ]
  },
  {
   "cell_type": "code",
   "execution_count": 9,
   "id": "6c328d6a-3e28-4c5b-ad0e-cca9dc241048",
   "metadata": {},
   "outputs": [
    {
     "data": {
      "text/plain": [
       "[['lighthouse', 'Harmaja', 'Suomenlinna aaltopoiju', 'Kumpula', 'Kaisaniemi'],\n",
       " ['2003', '1989', '2016', '2005', '1844']]"
      ]
     },
     "execution_count": 9,
     "metadata": {},
     "output_type": "execute_result"
    }
   ],
   "source": [
    "observation_stations = [\n",
    "    station_names, opening_year,\n",
    "]\n",
    "observation_stations  "
   ]
  },
  {
   "cell_type": "code",
   "execution_count": 10,
   "id": "8e4a35a7-2c6f-4641-be41-5e34b9689ae8",
   "metadata": {},
   "outputs": [
    {
     "data": {
      "text/plain": [
       "['lighthouse',\n",
       " 'Harmaja',\n",
       " 'Suomenlinna aaltopoiju',\n",
       " 'Kumpula',\n",
       " 'Kaisaniemi',\n",
       " 'Malmi airfield',\n",
       " 'Vuosaari harbour',\n",
       " 'Kaivopuisto']"
      ]
     },
     "execution_count": 10,
     "metadata": {},
     "output_type": "execute_result"
    }
   ],
   "source": [
    "station_names.append(\"Malmi airfield\")\n",
    "station_names.append(\"Vuosaari harbour\")\n",
    "station_names.append(\"Kaivopuisto\")\n",
    "station_names"
   ]
  },
  {
   "cell_type": "code",
   "execution_count": 11,
   "id": "b9dcf94d-ac40-4730-9f5a-e6c3fa8abcc6",
   "metadata": {},
   "outputs": [
    {
     "data": {
      "text/plain": [
       "['2003', '1989', '2016', '2005', '1844', '1937', '2012', '1904']"
      ]
     },
     "execution_count": 11,
     "metadata": {},
     "output_type": "execute_result"
    }
   ],
   "source": [
    "opening_year.append(\"1937\")\n",
    "opening_year.append(\"2012\")\n",
    "opening_year.append(\"1904\")\n",
    "opening_year"
   ]
  },
  {
   "cell_type": "code",
   "execution_count": 12,
   "id": "2b822a57-9c6d-4a72-9f71-6bf433e9b66b",
   "metadata": {},
   "outputs": [
    {
     "data": {
      "text/plain": [
       "[['lighthouse',\n",
       "  'Harmaja',\n",
       "  'Suomenlinna aaltopoiju',\n",
       "  'Kumpula',\n",
       "  'Kaisaniemi',\n",
       "  'Malmi airfield',\n",
       "  'Vuosaari harbour',\n",
       "  'Kaivopuisto'],\n",
       " ['2003', '1989', '2016', '2005', '1844', '1937', '2012', '1904']]"
      ]
     },
     "execution_count": 12,
     "metadata": {},
     "output_type": "execute_result"
    }
   ],
   "source": [
    "observation_stations = [\n",
    "    station_names, \n",
    "    opening_year,\n",
    "]\n",
    "observation_stations"
   ]
  },
  {
   "cell_type": "code",
   "execution_count": 13,
   "id": "af04210d-33d5-4e4b-a7d2-07d9e0cbc659",
   "metadata": {},
   "outputs": [
    {
     "data": {
      "text/plain": [
       "['Harmaja',\n",
       " 'Kaisaniemi',\n",
       " 'Kaivopuisto',\n",
       " 'Kumpula',\n",
       " 'Malmi airfield',\n",
       " 'Suomenlinna aaltopoiju',\n",
       " 'Vuosaari harbour',\n",
       " 'lighthouse']"
      ]
     },
     "execution_count": 13,
     "metadata": {},
     "output_type": "execute_result"
    }
   ],
   "source": [
    "station_names.sort()\n",
    "station_names"
   ]
  },
  {
   "cell_type": "code",
   "execution_count": 14,
   "id": "ad2483a3-2059-489c-9c38-20c1ea91ff04",
   "metadata": {},
   "outputs": [
    {
     "data": {
      "text/plain": [
       "['1844', '1904', '1937', '1989', '2003', '2005', '2012', '2016']"
      ]
     },
     "execution_count": 14,
     "metadata": {},
     "output_type": "execute_result"
    }
   ],
   "source": [
    "opening_year.sort()\n",
    "opening_year"
   ]
  },
  {
   "cell_type": "markdown",
   "id": "7fcbe6a0-c1c6-4ab5-8cf8-1f6921522c2d",
   "metadata": {},
   "source": [
    "The problem with the alphabetical list is that the lower case is after all the upper case. For observation_stations, it also lists all the names first then the year, it doesn't list them side by side."
   ]
  },
  {
   "cell_type": "code",
   "execution_count": 36,
   "id": "842e9d45",
   "metadata": {},
   "outputs": [],
   "source": [
    "station_names = [\n",
    "    \"lighthouse\",\n",
    "    \"Harmaja\",\n",
    "    \"Suomenlinna aaltopoiju\",\n",
    "    \"Kumpula\",\n",
    "    \"Kaisaniemi\",\n",
    "    \"Malmi airfield\",\n",
    "    \"Vuosaari harbour\",\n",
    "    \"Kaivopuisto\",\n",
    "]"
   ]
  },
  {
   "cell_type": "code",
   "execution_count": 37,
   "id": "4df05dad",
   "metadata": {},
   "outputs": [],
   "source": [
    "opening_year = [\n",
    "    \"2003\",\n",
    "    \"1989\",\n",
    "    \"2016\",\n",
    "    \"2005\",\n",
    "    \"1844\",\n",
    "    \"1937\",\n",
    "    \"2012\",\n",
    "    \"1904\",\n",
    "]   "
   ]
  },
  {
   "cell_type": "code",
   "execution_count": 39,
   "id": "aa2814ca",
   "metadata": {},
   "outputs": [
    {
     "name": "stdout",
     "output_type": "stream",
     "text": [
      "{('Suomenlinna aaltopoiju', '2016'), ('Kaisaniemi', '1844'), ('Harmaja', '1989'), ('Vuosaari harbour', '2012'), ('lighthouse', '2003'), ('Kaivopuisto', '1904'), ('Malmi airfield', '1937'), ('Kumpula', '2005')}\n"
     ]
    }
   ],
   "source": [
    "station_and_year = zip(station_names, opening_year)\n",
    "print(set(station_and_year))"
   ]
  },
  {
   "cell_type": "markdown",
   "id": "971e57ef",
   "metadata": {
    "tags": []
   },
   "source": [
    "# Solution for Exercise 2.3"
   ]
  },
  {
   "cell_type": "code",
   "execution_count": 3,
   "id": "4cbc664d",
   "metadata": {},
   "outputs": [],
   "source": [
    "month_list = [\"January\", \"Feburary\", \"March\", \"April\", \"May\", \"June\", \n",
    "              \"July\", \"August\", \"September\", \"October\", \"November\", \"December\"]"
   ]
  },
  {
   "cell_type": "code",
   "execution_count": 4,
   "id": "f8a30381-1045-478b-86af-25b09eb26aca",
   "metadata": {},
   "outputs": [],
   "source": [
    "temp_cel_list = [\"-3.5\", \"-4.5\", \"-1.0\", \"4.0\", \"10.0\", \"15.0\",\n",
    "                 \"18.0\", \"16.0\", \"11.5\", \"6.0\", \"2.0\", \"-1.5\"]"
   ]
  },
  {
   "cell_type": "code",
   "execution_count": 6,
   "id": "32e69da5-5e43-41ff-a580-7e7c0f0a3fce",
   "metadata": {},
   "outputs": [
    {
     "name": "stdout",
     "output_type": "stream",
     "text": [
      "The average temperature in Helsinki in January is -3.5 Celsius\n"
     ]
    }
   ],
   "source": [
    "print('The average temperature in Helsinki in', month_list[0], 'is', temp_cel_list[0], 'Celsius')"
   ]
  },
  {
   "cell_type": "code",
   "execution_count": 7,
   "id": "a4e5b885-2727-48f9-bdeb-45fea813042b",
   "metadata": {},
   "outputs": [
    {
     "name": "stdout",
     "output_type": "stream",
     "text": [
      "The average temperature in Helsinki in Feburary is -4.5 Celsius\n"
     ]
    }
   ],
   "source": [
    "print('The average temperature in Helsinki in', month_list[1], 'is', temp_cel_list[1], 'Celsius')"
   ]
  },
  {
   "cell_type": "code",
   "execution_count": 8,
   "id": "b32002f9-562a-4281-8034-a8fef4683565",
   "metadata": {},
   "outputs": [
    {
     "name": "stdout",
     "output_type": "stream",
     "text": [
      "The average temperature in Helsinki in March is -1.0 Celsius\n"
     ]
    }
   ],
   "source": [
    "print('The average temperature in Helsinki in', month_list[2], 'is', temp_cel_list[2], 'Celsius')"
   ]
  },
  {
   "cell_type": "code",
   "execution_count": 9,
   "id": "125ec352-5e78-4f71-a643-78e20afebcf0",
   "metadata": {},
   "outputs": [
    {
     "name": "stdout",
     "output_type": "stream",
     "text": [
      "The average temperature in Helsinki in April is 4.0 Celsius\n"
     ]
    }
   ],
   "source": [
    "print('The average temperature in Helsinki in', month_list[3], 'is', temp_cel_list[3], 'Celsius')"
   ]
  },
  {
   "cell_type": "code",
   "execution_count": 10,
   "id": "dc4d82a8-873a-4575-9b8c-7c6b8048b64e",
   "metadata": {},
   "outputs": [
    {
     "name": "stdout",
     "output_type": "stream",
     "text": [
      "The average temperature in Helsinki in May is 10.0 Celsius\n"
     ]
    }
   ],
   "source": [
    "print('The average temperature in Helsinki in', month_list[4], 'is', temp_cel_list[4], 'Celsius')"
   ]
  },
  {
   "cell_type": "code",
   "execution_count": 11,
   "id": "66e5a6c7-4e07-4a84-9ee3-d7820c0272cb",
   "metadata": {},
   "outputs": [
    {
     "name": "stdout",
     "output_type": "stream",
     "text": [
      "The average temperature in Helsinki in June is 15.0 Celsius\n"
     ]
    }
   ],
   "source": [
    "print('The average temperature in Helsinki in', month_list[5], 'is', temp_cel_list[5], 'Celsius')"
   ]
  },
  {
   "cell_type": "code",
   "execution_count": 12,
   "id": "98529a74-3940-458b-85e2-ab64195997d4",
   "metadata": {},
   "outputs": [
    {
     "name": "stdout",
     "output_type": "stream",
     "text": [
      "The average temperature in Helsinki in July is 18.0 Celsius\n"
     ]
    }
   ],
   "source": [
    "print('The average temperature in Helsinki in', month_list[6], 'is', temp_cel_list[6], 'Celsius')"
   ]
  },
  {
   "cell_type": "code",
   "execution_count": 13,
   "id": "c286b80c-e476-4c75-9278-fb080dc67122",
   "metadata": {},
   "outputs": [
    {
     "name": "stdout",
     "output_type": "stream",
     "text": [
      "The average temperature in Helsinki in August is 16.0 Celsius\n"
     ]
    }
   ],
   "source": [
    "print('The average temperature in Helsinki in', month_list[7], 'is', temp_cel_list[7], 'Celsius')"
   ]
  },
  {
   "cell_type": "code",
   "execution_count": 14,
   "id": "8fd5419e-2019-4e07-86e3-7dcf987c9b2c",
   "metadata": {},
   "outputs": [
    {
     "name": "stdout",
     "output_type": "stream",
     "text": [
      "The average temperature in Helsinki in September is 11.5 Celsius\n"
     ]
    }
   ],
   "source": [
    "print('The average temperature in Helsinki in', month_list[8], 'is', temp_cel_list[8], 'Celsius')"
   ]
  },
  {
   "cell_type": "code",
   "execution_count": 15,
   "id": "a4fb7032-b913-4235-9bc6-b4f841051d2b",
   "metadata": {},
   "outputs": [
    {
     "name": "stdout",
     "output_type": "stream",
     "text": [
      "The average temperature in Helsinki in October is 6.0 Celsius\n"
     ]
    }
   ],
   "source": [
    "print('The average temperature in Helsinki in', month_list[9], 'is', temp_cel_list[9], 'Celsius')"
   ]
  },
  {
   "cell_type": "code",
   "execution_count": 16,
   "id": "f61e074e-29ec-4ec7-8bf4-b4fcc4ef12cd",
   "metadata": {},
   "outputs": [
    {
     "name": "stdout",
     "output_type": "stream",
     "text": [
      "The average temperature in Helsinki in November is 2.0 Celsius\n"
     ]
    }
   ],
   "source": [
    "print('The average temperature in Helsinki in', month_list[10], 'is', temp_cel_list[10], 'Celsius')"
   ]
  },
  {
   "cell_type": "code",
   "execution_count": 17,
   "id": "6a999477-2539-46b3-be18-3bf93b529e6b",
   "metadata": {},
   "outputs": [
    {
     "name": "stdout",
     "output_type": "stream",
     "text": [
      "The average temperature in Helsinki in December is -1.5 Celsius\n"
     ]
    }
   ],
   "source": [
    "print('The average temperature in Helsinki in', month_list[11], 'is', temp_cel_list[11], 'Celsius')"
   ]
  },
  {
   "cell_type": "markdown",
   "id": "ef78e1bd-0abd-40df-97e4-9af3b6cd7742",
   "metadata": {},
   "source": [
    "# Solution for Exercise 2.4"
   ]
  },
  {
   "cell_type": "code",
   "execution_count": 30,
   "id": "6825f268-f81d-48bd-af8b-a5e90abd84cc",
   "metadata": {},
   "outputs": [
    {
     "name": "stdout",
     "output_type": "stream",
     "text": [
      "['Station_0.txt', 'Station_1.txt', 'Station_2.txt', 'Station_3.txt', 'Station_4.txt', 'Station_5.txt', 'Station_6.txt', 'Station_7.txt', 'Station_8.txt', 'Station_9.txt', 'Station_10.txt', 'Station_11.txt', 'Station_12.txt', 'Station_13.txt', 'Station_14.txt', 'Station_15.txt', 'Station_16.txt', 'Station_17.txt', 'Station_18.txt', 'Station_19.txt', 'Station_20.txt']\n"
     ]
    }
   ],
   "source": [
    "stations=[]\n",
    "for i in range(0,21,1):\n",
    "    station=f\"Station_{i}.txt\"\n",
    "    stations.append(station)\n",
    "print(stations)"
   ]
  }
 ],
 "metadata": {
  "kernelspec": {
   "display_name": "Python 3 (ipykernel)",
   "language": "python",
   "name": "python3"
  },
  "language_info": {
   "codemirror_mode": {
    "name": "ipython",
    "version": 3
   },
   "file_extension": ".py",
   "mimetype": "text/x-python",
   "name": "python",
   "nbconvert_exporter": "python",
   "pygments_lexer": "ipython3",
   "version": "3.9.15"
  }
 },
 "nbformat": 4,
 "nbformat_minor": 5
}
