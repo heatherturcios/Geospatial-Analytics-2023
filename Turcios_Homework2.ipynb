{
 "cells": [
  {
   "cell_type": "markdown",
   "id": "67a3f8fe-187f-42bd-8799-8a5675897b9b",
   "metadata": {},
   "source": [
    "HOMEWORK 2 - Heather Turcios"
   ]
  },
  {
   "cell_type": "markdown",
   "id": "675e40fd-f2d5-4e62-8614-448e7f905fac",
   "metadata": {
    "tags": []
   },
   "source": [
    "# Solution for Exercise 2.5"
   ]
  },
  {
   "cell_type": "code",
   "execution_count": 2,
   "id": "ac9922e4-4f64-451a-b51e-35eec03f6968",
   "metadata": {},
   "outputs": [],
   "source": [
    "temperatures = [-5.4, 1.0, -1.3, -4.8, 3.9, 0.1, -4.4, 4.0, -2.2, -3.9, 4.4,\n",
    "                -2.5, -4.6, 5.1, 2.1, -2.4, 1.9, -3.3, -4.8, 1.0, -0.8, -2.8,\n",
    "                -0.1, -4.7, -5.6, 2.6, -2.7, -4.6, 3.4, -0.4, -0.9, 3.1, 2.4,\n",
    "                1.6, 4.2, 3.5, 2.6, 3.1, 2.2, 1.8, 3.3, 1.6, 1.5, 4.7, 4.0,\n",
    "                3.6, 4.9, 4.8, 5.3, 5.6, 4.1, 3.7, 7.6, 6.9, 5.1, 6.4, 3.8,\n",
    "                4.0, 8.6, 4.1, 1.4, 8.9, 3.0, 1.6, 8.5, 4.7, 6.6, 8.1, 4.5,\n",
    "                4.8, 11.3, 4.7, 5.2, 11.5, 6.2, 2.9, 4.3, 2.8, 2.8, 6.3, 2.6,\n",
    "                -0.0, 7.3, 3.4, 4.7, 9.3, 6.4, 5.4, 7.6, 5.2]"
   ]
  },
  {
   "cell_type": "code",
   "execution_count": 3,
   "id": "4c3a4a0c-0a0e-48a1-8a80-f7e0e15e28b0",
   "metadata": {},
   "outputs": [],
   "source": [
    "cold = []\n",
    "slippery = []\n",
    "comfortable = []\n",
    "warm = []\n",
    "for temperature in temperatures:\n",
    "    if temperature < -2:\n",
    "        cold.append(temperature)\n",
    "    elif temperature >= 2:\n",
    "        warm.append(temperature)\n",
    "    if (temperature >= -2) and (temperature < 2):\n",
    "        slippery.append(temperature)\n",
    "    if (temperature >= 2) and (temperature < 15):\n",
    "        comfortable.append(temperature)"
   ]
  },
  {
   "cell_type": "code",
   "execution_count": 4,
   "id": "12ef9267-36cb-477e-8354-cf95ec70a7b2",
   "metadata": {},
   "outputs": [
    {
     "name": "stdout",
     "output_type": "stream",
     "text": [
      "It was cold 15 times in Helsinki.\n"
     ]
    }
   ],
   "source": [
    "amt_cold = len(cold)\n",
    "print('It was cold', amt_cold, 'times in Helsinki.')"
   ]
  },
  {
   "cell_type": "code",
   "execution_count": 5,
   "id": "39bb95b9-2df0-42de-8c3c-80b77fc2c9dd",
   "metadata": {},
   "outputs": [
    {
     "name": "stdout",
     "output_type": "stream",
     "text": [
      "It was comfortable 59 times in Helsinki.\n"
     ]
    }
   ],
   "source": [
    "amt_comfort = len(comfortable)\n",
    "print('It was comfortable', amt_comfort, 'times in Helsinki.')"
   ]
  },
  {
   "cell_type": "code",
   "execution_count": 6,
   "id": "d7495610-0101-42d9-aebb-89b4ec3f89b9",
   "metadata": {},
   "outputs": [
    {
     "name": "stdout",
     "output_type": "stream",
     "text": [
      "It was warm 59 times in Helsinki.\n"
     ]
    }
   ],
   "source": [
    "amt_warm = len(warm)\n",
    "print('It was warm', amt_warm, 'times in Helsinki.')"
   ]
  },
  {
   "cell_type": "markdown",
   "id": "0544824f-9b04-4640-92d4-ce7bfa449672",
   "metadata": {
    "tags": []
   },
   "source": [
    "# Solution for Exercise 2.6 "
   ]
  },
  {
   "cell_type": "code",
   "execution_count": 7,
   "id": "e666c62b-885e-4e53-b103-c5f88427a937",
   "metadata": {},
   "outputs": [],
   "source": [
    "def farh_to_celsius(temp_farh):\n",
    "    \"\"\"Converts Fahrenheit to Celsius\"\"\"\n",
    "    temp_celsius = (temp_farh - 32) * 5/9\n",
    "    return temp_celsius"
   ]
  },
  {
   "cell_type": "code",
   "execution_count": 8,
   "id": "aeb7fd7b-2f8f-4350-b489-4dcc36b6dc6b",
   "metadata": {},
   "outputs": [
    {
     "data": {
      "text/plain": [
       "0.0"
      ]
     },
     "execution_count": 8,
     "metadata": {},
     "output_type": "execute_result"
    }
   ],
   "source": [
    "farh_to_celsius(temp_farh=32)"
   ]
  },
  {
   "cell_type": "code",
   "execution_count": 9,
   "id": "93a10131-593f-48c4-9a36-1fbbf9f07adc",
   "metadata": {},
   "outputs": [
    {
     "data": {
      "text/plain": [
       "20.0"
      ]
     },
     "execution_count": 9,
     "metadata": {},
     "output_type": "execute_result"
    }
   ],
   "source": [
    "farh_to_celsius(temp_farh=68)"
   ]
  },
  {
   "cell_type": "code",
   "execution_count": 10,
   "id": "2e4983b9-6415-4209-a3a3-6fab22ef7049",
   "metadata": {},
   "outputs": [
    {
     "data": {
      "text/plain": [
       "32.77777777777778"
      ]
     },
     "execution_count": 10,
     "metadata": {},
     "output_type": "execute_result"
    }
   ],
   "source": [
    "farh_to_celsius(temp_farh=91)"
   ]
  },
  {
   "cell_type": "code",
   "execution_count": 11,
   "id": "cce2185a-40af-4202-b73a-5766e6693085",
   "metadata": {},
   "outputs": [
    {
     "data": {
      "text/plain": [
       "-27.22222222222222"
      ]
     },
     "execution_count": 11,
     "metadata": {},
     "output_type": "execute_result"
    }
   ],
   "source": [
    "farh_to_celsius(temp_farh=-17)"
   ]
  },
  {
   "cell_type": "markdown",
   "id": "3fd09f1c-e241-4613-b22e-6747c87a28c3",
   "metadata": {
    "tags": []
   },
   "source": [
    "# Solution for Exercise 2.7"
   ]
  },
  {
   "cell_type": "code",
   "execution_count": 12,
   "id": "73776d33-67cd-409f-a217-46d15b4793bb",
   "metadata": {},
   "outputs": [],
   "source": [
    "def class_temp(temp_celsius):\n",
    "    if temp_celsius < -2:\n",
    "        return 0\n",
    "    elif temp_celsius >= -2 and temp_celsius < 2:\n",
    "        return 1\n",
    "    elif temp_celsius >= 2 and temp_celsius < 15:\n",
    "        return 2\n",
    "    else:\n",
    "        return 3"
   ]
  },
  {
   "cell_type": "code",
   "execution_count": 13,
   "id": "5a61c830-c25c-4d71-b468-006b9f0c2348",
   "metadata": {},
   "outputs": [
    {
     "data": {
      "text/plain": [
       "3"
      ]
     },
     "execution_count": 13,
     "metadata": {},
     "output_type": "execute_result"
    }
   ],
   "source": [
    "class_temp(temp_celsius=17)"
   ]
  },
  {
   "cell_type": "code",
   "execution_count": 14,
   "id": "81f176ca-695c-4136-9965-0f1496af57b5",
   "metadata": {},
   "outputs": [
    {
     "data": {
      "text/plain": [
       "2"
      ]
     },
     "execution_count": 14,
     "metadata": {},
     "output_type": "execute_result"
    }
   ],
   "source": [
    "class_temp(temp_celsius=2)"
   ]
  },
  {
   "cell_type": "code",
   "execution_count": 15,
   "id": "a03c9f75-5181-4571-a4d8-0eb126f55f9d",
   "metadata": {},
   "outputs": [
    {
     "data": {
      "text/plain": [
       "1"
      ]
     },
     "execution_count": 15,
     "metadata": {},
     "output_type": "execute_result"
    }
   ],
   "source": [
    "class_temp(temp_celsius=1.9)"
   ]
  },
  {
   "cell_type": "code",
   "execution_count": 16,
   "id": "eb092e06-2d61-4e9e-918d-032bcb03b802",
   "metadata": {},
   "outputs": [
    {
     "data": {
      "text/plain": [
       "1"
      ]
     },
     "execution_count": 16,
     "metadata": {},
     "output_type": "execute_result"
    }
   ],
   "source": [
    "class_temp(temp_celsius=-2)"
   ]
  },
  {
   "cell_type": "markdown",
   "id": "26d75ecd-3dbb-42c2-af9b-2673ff73c252",
   "metadata": {
    "tags": []
   },
   "source": [
    "# Solution for Exercise 3.1"
   ]
  },
  {
   "cell_type": "markdown",
   "id": "629aa4f0-1264-4787-836e-677adbf74383",
   "metadata": {},
   "source": [
    "## Problem 1"
   ]
  },
  {
   "cell_type": "code",
   "execution_count": 17,
   "id": "8a5908df-6eb3-4701-942d-7428b4e530c7",
   "metadata": {},
   "outputs": [],
   "source": [
    "import pandas as pd"
   ]
  },
  {
   "cell_type": "code",
   "execution_count": 18,
   "id": "6d9f29c5-604d-4c83-9596-e010a1730b2b",
   "metadata": {},
   "outputs": [],
   "source": [
    "data = pd.read_csv(\"data/6153237444115dat.csv\")"
   ]
  },
  {
   "cell_type": "code",
   "execution_count": 19,
   "id": "1b200109-7fc5-4666-bf88-1553f793391e",
   "metadata": {},
   "outputs": [
    {
     "data": {
      "text/html": [
       "<div>\n",
       "<style scoped>\n",
       "    .dataframe tbody tr th:only-of-type {\n",
       "        vertical-align: middle;\n",
       "    }\n",
       "\n",
       "    .dataframe tbody tr th {\n",
       "        vertical-align: top;\n",
       "    }\n",
       "\n",
       "    .dataframe thead th {\n",
       "        text-align: right;\n",
       "    }\n",
       "</style>\n",
       "<table border=\"1\" class=\"dataframe\">\n",
       "  <thead>\n",
       "    <tr style=\"text-align: right;\">\n",
       "      <th></th>\n",
       "      <th>USAF</th>\n",
       "      <th>WBAN</th>\n",
       "      <th>YR--MODAHRMN</th>\n",
       "      <th>DIR</th>\n",
       "      <th>SPD</th>\n",
       "      <th>GUS</th>\n",
       "      <th>CLG</th>\n",
       "      <th>SKC</th>\n",
       "      <th>L</th>\n",
       "      <th>M</th>\n",
       "      <th>...</th>\n",
       "      <th>SLP</th>\n",
       "      <th>ALT</th>\n",
       "      <th>STP</th>\n",
       "      <th>MAX</th>\n",
       "      <th>MIN</th>\n",
       "      <th>PCP01</th>\n",
       "      <th>PCP06</th>\n",
       "      <th>PCP24</th>\n",
       "      <th>PCPXX</th>\n",
       "      <th>SD</th>\n",
       "    </tr>\n",
       "  </thead>\n",
       "  <tbody>\n",
       "    <tr>\n",
       "      <th>0</th>\n",
       "      <td>28450</td>\n",
       "      <td>99999</td>\n",
       "      <td>201705010000</td>\n",
       "      <td>174</td>\n",
       "      <td>10</td>\n",
       "      <td>14</td>\n",
       "      <td>***</td>\n",
       "      <td>***</td>\n",
       "      <td>*</td>\n",
       "      <td>*</td>\n",
       "      <td>...</td>\n",
       "      <td>1009.2</td>\n",
       "      <td>*****</td>\n",
       "      <td>984.1</td>\n",
       "      <td>***</td>\n",
       "      <td>***</td>\n",
       "      <td>*****</td>\n",
       "      <td>*****</td>\n",
       "      <td>*****</td>\n",
       "      <td>*****</td>\n",
       "      <td>35</td>\n",
       "    </tr>\n",
       "    <tr>\n",
       "      <th>1</th>\n",
       "      <td>28450</td>\n",
       "      <td>99999</td>\n",
       "      <td>201705010020</td>\n",
       "      <td>180</td>\n",
       "      <td>10</td>\n",
       "      <td>***</td>\n",
       "      <td>4</td>\n",
       "      <td>***</td>\n",
       "      <td>*</td>\n",
       "      <td>*</td>\n",
       "      <td>...</td>\n",
       "      <td>******</td>\n",
       "      <td>29.74</td>\n",
       "      <td>******</td>\n",
       "      <td>***</td>\n",
       "      <td>***</td>\n",
       "      <td>*****</td>\n",
       "      <td>*****</td>\n",
       "      <td>*****</td>\n",
       "      <td>*****</td>\n",
       "      <td>**</td>\n",
       "    </tr>\n",
       "    <tr>\n",
       "      <th>2</th>\n",
       "      <td>28450</td>\n",
       "      <td>99999</td>\n",
       "      <td>201705010050</td>\n",
       "      <td>190</td>\n",
       "      <td>10</td>\n",
       "      <td>***</td>\n",
       "      <td>4</td>\n",
       "      <td>***</td>\n",
       "      <td>*</td>\n",
       "      <td>*</td>\n",
       "      <td>...</td>\n",
       "      <td>******</td>\n",
       "      <td>29.74</td>\n",
       "      <td>******</td>\n",
       "      <td>***</td>\n",
       "      <td>***</td>\n",
       "      <td>*****</td>\n",
       "      <td>*****</td>\n",
       "      <td>*****</td>\n",
       "      <td>*****</td>\n",
       "      <td>**</td>\n",
       "    </tr>\n",
       "    <tr>\n",
       "      <th>3</th>\n",
       "      <td>28450</td>\n",
       "      <td>99999</td>\n",
       "      <td>201705010100</td>\n",
       "      <td>188</td>\n",
       "      <td>12</td>\n",
       "      <td>16</td>\n",
       "      <td>***</td>\n",
       "      <td>***</td>\n",
       "      <td>*</td>\n",
       "      <td>*</td>\n",
       "      <td>...</td>\n",
       "      <td>1009.1</td>\n",
       "      <td>*****</td>\n",
       "      <td>984.0</td>\n",
       "      <td>***</td>\n",
       "      <td>***</td>\n",
       "      <td>*****</td>\n",
       "      <td>*****</td>\n",
       "      <td>*****</td>\n",
       "      <td>*****</td>\n",
       "      <td>35</td>\n",
       "    </tr>\n",
       "    <tr>\n",
       "      <th>4</th>\n",
       "      <td>28450</td>\n",
       "      <td>99999</td>\n",
       "      <td>201705010120</td>\n",
       "      <td>200</td>\n",
       "      <td>13</td>\n",
       "      <td>***</td>\n",
       "      <td>2</td>\n",
       "      <td>OBS</td>\n",
       "      <td>*</td>\n",
       "      <td>*</td>\n",
       "      <td>...</td>\n",
       "      <td>******</td>\n",
       "      <td>29.74</td>\n",
       "      <td>******</td>\n",
       "      <td>***</td>\n",
       "      <td>***</td>\n",
       "      <td>*****</td>\n",
       "      <td>*****</td>\n",
       "      <td>*****</td>\n",
       "      <td>*****</td>\n",
       "      <td>**</td>\n",
       "    </tr>\n",
       "  </tbody>\n",
       "</table>\n",
       "<p>5 rows × 33 columns</p>\n",
       "</div>"
      ],
      "text/plain": [
       "    USAF   WBAN  YR--MODAHRMN  DIR SPD  GUS  CLG  SKC  L  M  ...     SLP  \\\n",
       "0  28450  99999  201705010000  174  10   14  ***  ***  *  *  ...  1009.2   \n",
       "1  28450  99999  201705010020  180  10  ***    4  ***  *  *  ...  ******   \n",
       "2  28450  99999  201705010050  190  10  ***    4  ***  *  *  ...  ******   \n",
       "3  28450  99999  201705010100  188  12   16  ***  ***  *  *  ...  1009.1   \n",
       "4  28450  99999  201705010120  200  13  ***    2  OBS  *  *  ...  ******   \n",
       "\n",
       "     ALT     STP  MAX  MIN  PCP01  PCP06  PCP24  PCPXX  SD  \n",
       "0  *****   984.1  ***  ***  *****  *****  *****  *****  35  \n",
       "1  29.74  ******  ***  ***  *****  *****  *****  *****  **  \n",
       "2  29.74  ******  ***  ***  *****  *****  *****  *****  **  \n",
       "3  *****   984.0  ***  ***  *****  *****  *****  *****  35  \n",
       "4  29.74  ******  ***  ***  *****  *****  *****  *****  **  \n",
       "\n",
       "[5 rows x 33 columns]"
      ]
     },
     "execution_count": 19,
     "metadata": {},
     "output_type": "execute_result"
    }
   ],
   "source": [
    "data.head()"
   ]
  },
  {
   "cell_type": "markdown",
   "id": "dc614314-eff2-4ffd-a6de-c2b682736fcd",
   "metadata": {},
   "source": [
    "## Problem 2"
   ]
  },
  {
   "cell_type": "code",
   "execution_count": 20,
   "id": "9090dbbc-25de-49b9-9b6f-27f098451061",
   "metadata": {},
   "outputs": [
    {
     "data": {
      "text/plain": [
       "(11694, 33)"
      ]
     },
     "execution_count": 20,
     "metadata": {},
     "output_type": "execute_result"
    }
   ],
   "source": [
    "data.shape\n",
    "# 11694 rows"
   ]
  },
  {
   "cell_type": "code",
   "execution_count": 21,
   "id": "e1225cf5-c960-4d2f-ab4f-d1df78e317cb",
   "metadata": {},
   "outputs": [
    {
     "data": {
      "text/plain": [
       "Index(['USAF', 'WBAN', 'YR--MODAHRMN', 'DIR', 'SPD', 'GUS', 'CLG', 'SKC', 'L',\n",
       "       'M', 'H', 'VSB', 'MW', 'MW.1', 'MW.2', 'MW.3', 'AW', 'AW.1', 'AW.2',\n",
       "       'AW.3', 'W', 'TEMP', 'DEWP', 'SLP', 'ALT', 'STP', 'MAX', 'MIN', 'PCP01',\n",
       "       'PCP06', 'PCP24', 'PCPXX', 'SD'],\n",
       "      dtype='object')"
      ]
     },
     "execution_count": 21,
     "metadata": {},
     "output_type": "execute_result"
    }
   ],
   "source": [
    "data.columns"
   ]
  },
  {
   "cell_type": "code",
   "execution_count": 22,
   "id": "661dbd13-0cd0-4d8e-9368-a646ec738b34",
   "metadata": {},
   "outputs": [
    {
     "data": {
      "text/plain": [
       "USAF             int64\n",
       "WBAN             int64\n",
       "YR--MODAHRMN     int64\n",
       "DIR             object\n",
       "SPD             object\n",
       "GUS             object\n",
       "CLG             object\n",
       "SKC             object\n",
       "L               object\n",
       "M               object\n",
       "H               object\n",
       "VSB             object\n",
       "MW              object\n",
       "MW.1            object\n",
       "MW.2            object\n",
       "MW.3            object\n",
       "AW              object\n",
       "AW.1            object\n",
       "AW.2            object\n",
       "AW.3            object\n",
       "W               object\n",
       "TEMP            object\n",
       "DEWP            object\n",
       "SLP             object\n",
       "ALT             object\n",
       "STP             object\n",
       "MAX             object\n",
       "MIN             object\n",
       "PCP01           object\n",
       "PCP06           object\n",
       "PCP24           object\n",
       "PCPXX           object\n",
       "SD              object\n",
       "dtype: object"
      ]
     },
     "execution_count": 22,
     "metadata": {},
     "output_type": "execute_result"
    }
   ],
   "source": [
    "data.dtypes"
   ]
  },
  {
   "cell_type": "markdown",
   "id": "8cf96242-8672-472b-a140-e8a7d42f41c4",
   "metadata": {},
   "source": [
    "## Problem 3"
   ]
  },
  {
   "cell_type": "code",
   "execution_count": 23,
   "id": "f55fdbf4-62a3-4567-849d-35348a5d9879",
   "metadata": {},
   "outputs": [],
   "source": [
    "data['TEMP'] = pd.to_numeric(data['TEMP'], errors = 'coerce')"
   ]
  },
  {
   "cell_type": "code",
   "execution_count": 24,
   "id": "d1b7c38b-7d7e-44c9-b76d-ff62164bd841",
   "metadata": {},
   "outputs": [
    {
     "name": "stdout",
     "output_type": "stream",
     "text": [
      "TEMP Mean: 52.24796852279531\n"
     ]
    }
   ],
   "source": [
    "data['TEMP'].mean()\n",
    "print(\"TEMP Mean:\", data['TEMP'].mean())"
   ]
  },
  {
   "cell_type": "code",
   "execution_count": 25,
   "id": "416ac739-5047-40d4-b13e-09fa8fbe4c71",
   "metadata": {},
   "outputs": [],
   "source": [
    "data['MAX'] = pd.to_numeric(data['MAX'], errors = 'coerce')"
   ]
  },
  {
   "cell_type": "code",
   "execution_count": 26,
   "id": "e798aaf0-5560-4e96-989e-ec8b56f52b61",
   "metadata": {},
   "outputs": [
    {
     "name": "stdout",
     "output_type": "stream",
     "text": [
      "MAX TEMP Standard Deviation: 10.307989094641968\n"
     ]
    }
   ],
   "source": [
    "data['MAX'].std()\n",
    "print(\"MAX TEMP Standard Deviation:\", data['MAX'].std())"
   ]
  },
  {
   "cell_type": "code",
   "execution_count": 27,
   "id": "d383e4c6-12e0-47ab-831c-51569349e846",
   "metadata": {},
   "outputs": [],
   "source": [
    "data['USAF'] = pd.to_numeric(data['TEMP'], errors = 'coerce')"
   ]
  },
  {
   "cell_type": "code",
   "execution_count": 28,
   "id": "a3b6a82c-9af5-4619-84bc-ffe170ee4a1a",
   "metadata": {},
   "outputs": [
    {
     "name": "stdout",
     "output_type": "stream",
     "text": [
      "Number of Unique Stations: 57\n"
     ]
    }
   ],
   "source": [
    "data['USAF'].nunique()\n",
    "print(\"Number of Unique Stations:\", data['USAF'].nunique())"
   ]
  },
  {
   "cell_type": "markdown",
   "id": "dc99ae33-78c6-4be0-8e45-c8e343229c56",
   "metadata": {
    "tags": []
   },
   "source": [
    "# Solution for Exercise 3.2"
   ]
  },
  {
   "cell_type": "markdown",
   "id": "a2e2281a-71b6-424f-b125-7a5f17e80e28",
   "metadata": {},
   "source": [
    "## Problem 1"
   ]
  },
  {
   "cell_type": "code",
   "execution_count": 29,
   "id": "81afd4c1-5c5c-4ab6-b92e-ff5d93ac5294",
   "metadata": {},
   "outputs": [
    {
     "data": {
      "text/html": [
       "<div>\n",
       "<style scoped>\n",
       "    .dataframe tbody tr th:only-of-type {\n",
       "        vertical-align: middle;\n",
       "    }\n",
       "\n",
       "    .dataframe tbody tr th {\n",
       "        vertical-align: top;\n",
       "    }\n",
       "\n",
       "    .dataframe thead th {\n",
       "        text-align: right;\n",
       "    }\n",
       "</style>\n",
       "<table border=\"1\" class=\"dataframe\">\n",
       "  <thead>\n",
       "    <tr style=\"text-align: right;\">\n",
       "      <th></th>\n",
       "      <th>USAF</th>\n",
       "      <th>YR--MODAHRMN</th>\n",
       "      <th>TEMP</th>\n",
       "      <th>MAX</th>\n",
       "      <th>MIN</th>\n",
       "    </tr>\n",
       "  </thead>\n",
       "  <tbody>\n",
       "    <tr>\n",
       "      <th>0</th>\n",
       "      <td>31.0</td>\n",
       "      <td>201705010000</td>\n",
       "      <td>31.0</td>\n",
       "      <td>NaN</td>\n",
       "      <td>***</td>\n",
       "    </tr>\n",
       "    <tr>\n",
       "      <th>1</th>\n",
       "      <td>30.0</td>\n",
       "      <td>201705010020</td>\n",
       "      <td>30.0</td>\n",
       "      <td>NaN</td>\n",
       "      <td>***</td>\n",
       "    </tr>\n",
       "    <tr>\n",
       "      <th>2</th>\n",
       "      <td>30.0</td>\n",
       "      <td>201705010050</td>\n",
       "      <td>30.0</td>\n",
       "      <td>NaN</td>\n",
       "      <td>***</td>\n",
       "    </tr>\n",
       "    <tr>\n",
       "      <th>3</th>\n",
       "      <td>31.0</td>\n",
       "      <td>201705010100</td>\n",
       "      <td>31.0</td>\n",
       "      <td>NaN</td>\n",
       "      <td>***</td>\n",
       "    </tr>\n",
       "    <tr>\n",
       "      <th>4</th>\n",
       "      <td>30.0</td>\n",
       "      <td>201705010120</td>\n",
       "      <td>30.0</td>\n",
       "      <td>NaN</td>\n",
       "      <td>***</td>\n",
       "    </tr>\n",
       "    <tr>\n",
       "      <th>...</th>\n",
       "      <td>...</td>\n",
       "      <td>...</td>\n",
       "      <td>...</td>\n",
       "      <td>...</td>\n",
       "      <td>...</td>\n",
       "    </tr>\n",
       "    <tr>\n",
       "      <th>11689</th>\n",
       "      <td>64.0</td>\n",
       "      <td>201708311900</td>\n",
       "      <td>64.0</td>\n",
       "      <td>NaN</td>\n",
       "      <td>***</td>\n",
       "    </tr>\n",
       "    <tr>\n",
       "      <th>11690</th>\n",
       "      <td>64.0</td>\n",
       "      <td>201708312000</td>\n",
       "      <td>64.0</td>\n",
       "      <td>NaN</td>\n",
       "      <td>***</td>\n",
       "    </tr>\n",
       "    <tr>\n",
       "      <th>11691</th>\n",
       "      <td>64.0</td>\n",
       "      <td>201708312100</td>\n",
       "      <td>64.0</td>\n",
       "      <td>NaN</td>\n",
       "      <td>***</td>\n",
       "    </tr>\n",
       "    <tr>\n",
       "      <th>11692</th>\n",
       "      <td>64.0</td>\n",
       "      <td>201708312200</td>\n",
       "      <td>64.0</td>\n",
       "      <td>NaN</td>\n",
       "      <td>***</td>\n",
       "    </tr>\n",
       "    <tr>\n",
       "      <th>11693</th>\n",
       "      <td>64.0</td>\n",
       "      <td>201708312300</td>\n",
       "      <td>64.0</td>\n",
       "      <td>NaN</td>\n",
       "      <td>***</td>\n",
       "    </tr>\n",
       "  </tbody>\n",
       "</table>\n",
       "<p>11694 rows × 5 columns</p>\n",
       "</div>"
      ],
      "text/plain": [
       "       USAF  YR--MODAHRMN  TEMP  MAX  MIN\n",
       "0      31.0  201705010000  31.0  NaN  ***\n",
       "1      30.0  201705010020  30.0  NaN  ***\n",
       "2      30.0  201705010050  30.0  NaN  ***\n",
       "3      31.0  201705010100  31.0  NaN  ***\n",
       "4      30.0  201705010120  30.0  NaN  ***\n",
       "...     ...           ...   ...  ...  ...\n",
       "11689  64.0  201708311900  64.0  NaN  ***\n",
       "11690  64.0  201708312000  64.0  NaN  ***\n",
       "11691  64.0  201708312100  64.0  NaN  ***\n",
       "11692  64.0  201708312200  64.0  NaN  ***\n",
       "11693  64.0  201708312300  64.0  NaN  ***\n",
       "\n",
       "[11694 rows x 5 columns]"
      ]
     },
     "execution_count": 29,
     "metadata": {},
     "output_type": "execute_result"
    }
   ],
   "source": [
    "selected = data[['USAF', 'YR--MODAHRMN', 'TEMP', 'MAX', 'MIN']]\n",
    "selected"
   ]
  },
  {
   "cell_type": "code",
   "execution_count": 30,
   "id": "5d11e3f1-4d46-497b-bbbd-faed6981c42e",
   "metadata": {},
   "outputs": [],
   "source": [
    "temp = data.loc[0:11694, [\"TEMP\"]]"
   ]
  },
  {
   "cell_type": "code",
   "execution_count": 31,
   "id": "3f6b7ba4-2b21-4a73-a74f-b0c55f10d499",
   "metadata": {},
   "outputs": [
    {
     "data": {
      "text/html": [
       "<div>\n",
       "<style scoped>\n",
       "    .dataframe tbody tr th:only-of-type {\n",
       "        vertical-align: middle;\n",
       "    }\n",
       "\n",
       "    .dataframe tbody tr th {\n",
       "        vertical-align: top;\n",
       "    }\n",
       "\n",
       "    .dataframe thead th {\n",
       "        text-align: right;\n",
       "    }\n",
       "</style>\n",
       "<table border=\"1\" class=\"dataframe\">\n",
       "  <thead>\n",
       "    <tr style=\"text-align: right;\">\n",
       "      <th></th>\n",
       "      <th>TEMP</th>\n",
       "    </tr>\n",
       "  </thead>\n",
       "  <tbody>\n",
       "    <tr>\n",
       "      <th>0</th>\n",
       "      <td>31.0</td>\n",
       "    </tr>\n",
       "    <tr>\n",
       "      <th>1</th>\n",
       "      <td>30.0</td>\n",
       "    </tr>\n",
       "    <tr>\n",
       "      <th>2</th>\n",
       "      <td>30.0</td>\n",
       "    </tr>\n",
       "    <tr>\n",
       "      <th>3</th>\n",
       "      <td>31.0</td>\n",
       "    </tr>\n",
       "    <tr>\n",
       "      <th>4</th>\n",
       "      <td>30.0</td>\n",
       "    </tr>\n",
       "    <tr>\n",
       "      <th>...</th>\n",
       "      <td>...</td>\n",
       "    </tr>\n",
       "    <tr>\n",
       "      <th>11689</th>\n",
       "      <td>64.0</td>\n",
       "    </tr>\n",
       "    <tr>\n",
       "      <th>11690</th>\n",
       "      <td>64.0</td>\n",
       "    </tr>\n",
       "    <tr>\n",
       "      <th>11691</th>\n",
       "      <td>64.0</td>\n",
       "    </tr>\n",
       "    <tr>\n",
       "      <th>11692</th>\n",
       "      <td>64.0</td>\n",
       "    </tr>\n",
       "    <tr>\n",
       "      <th>11693</th>\n",
       "      <td>64.0</td>\n",
       "    </tr>\n",
       "  </tbody>\n",
       "</table>\n",
       "<p>11691 rows × 1 columns</p>\n",
       "</div>"
      ],
      "text/plain": [
       "       TEMP\n",
       "0      31.0\n",
       "1      30.0\n",
       "2      30.0\n",
       "3      31.0\n",
       "4      30.0\n",
       "...     ...\n",
       "11689  64.0\n",
       "11690  64.0\n",
       "11691  64.0\n",
       "11692  64.0\n",
       "11693  64.0\n",
       "\n",
       "[11691 rows x 1 columns]"
      ]
     },
     "execution_count": 31,
     "metadata": {},
     "output_type": "execute_result"
    }
   ],
   "source": [
    "cols_to_check = [\"TEMP\"]\n",
    "temp_clean = temp.dropna(subset = cols_to_check)\n",
    "temp_clean"
   ]
  },
  {
   "cell_type": "markdown",
   "id": "4a46020a-3c07-4f3d-b011-206bf799f7ff",
   "metadata": {},
   "source": [
    "## Problem 2"
   ]
  },
  {
   "cell_type": "code",
   "execution_count": 45,
   "id": "55bd181c-4880-45ee-9194-f679037ba4b6",
   "metadata": {},
   "outputs": [
    {
     "data": {
      "text/html": [
       "<div>\n",
       "<style scoped>\n",
       "    .dataframe tbody tr th:only-of-type {\n",
       "        vertical-align: middle;\n",
       "    }\n",
       "\n",
       "    .dataframe tbody tr th {\n",
       "        vertical-align: top;\n",
       "    }\n",
       "\n",
       "    .dataframe thead th {\n",
       "        text-align: right;\n",
       "    }\n",
       "</style>\n",
       "<table border=\"1\" class=\"dataframe\">\n",
       "  <thead>\n",
       "    <tr style=\"text-align: right;\">\n",
       "      <th></th>\n",
       "      <th>USAF</th>\n",
       "      <th>WBAN</th>\n",
       "      <th>YR--MODAHRMN</th>\n",
       "      <th>DIR</th>\n",
       "      <th>SPD</th>\n",
       "      <th>GUS</th>\n",
       "      <th>CLG</th>\n",
       "      <th>SKC</th>\n",
       "      <th>L</th>\n",
       "      <th>M</th>\n",
       "      <th>...</th>\n",
       "      <th>ALT</th>\n",
       "      <th>STP</th>\n",
       "      <th>MAX</th>\n",
       "      <th>MIN</th>\n",
       "      <th>PCP01</th>\n",
       "      <th>PCP06</th>\n",
       "      <th>PCP24</th>\n",
       "      <th>PCPXX</th>\n",
       "      <th>SD</th>\n",
       "      <th>CELSIUS</th>\n",
       "    </tr>\n",
       "  </thead>\n",
       "  <tbody>\n",
       "    <tr>\n",
       "      <th>0</th>\n",
       "      <td>31.0</td>\n",
       "      <td>99999</td>\n",
       "      <td>201705010000</td>\n",
       "      <td>174</td>\n",
       "      <td>10</td>\n",
       "      <td>14</td>\n",
       "      <td>***</td>\n",
       "      <td>***</td>\n",
       "      <td>*</td>\n",
       "      <td>*</td>\n",
       "      <td>...</td>\n",
       "      <td>*****</td>\n",
       "      <td>984.1</td>\n",
       "      <td>NaN</td>\n",
       "      <td>***</td>\n",
       "      <td>*****</td>\n",
       "      <td>*****</td>\n",
       "      <td>*****</td>\n",
       "      <td>*****</td>\n",
       "      <td>35</td>\n",
       "      <td>0.0</td>\n",
       "    </tr>\n",
       "    <tr>\n",
       "      <th>1</th>\n",
       "      <td>30.0</td>\n",
       "      <td>99999</td>\n",
       "      <td>201705010020</td>\n",
       "      <td>180</td>\n",
       "      <td>10</td>\n",
       "      <td>***</td>\n",
       "      <td>4</td>\n",
       "      <td>***</td>\n",
       "      <td>*</td>\n",
       "      <td>*</td>\n",
       "      <td>...</td>\n",
       "      <td>29.74</td>\n",
       "      <td>******</td>\n",
       "      <td>NaN</td>\n",
       "      <td>***</td>\n",
       "      <td>*****</td>\n",
       "      <td>*****</td>\n",
       "      <td>*****</td>\n",
       "      <td>*****</td>\n",
       "      <td>**</td>\n",
       "      <td>0.0</td>\n",
       "    </tr>\n",
       "    <tr>\n",
       "      <th>2</th>\n",
       "      <td>30.0</td>\n",
       "      <td>99999</td>\n",
       "      <td>201705010050</td>\n",
       "      <td>190</td>\n",
       "      <td>10</td>\n",
       "      <td>***</td>\n",
       "      <td>4</td>\n",
       "      <td>***</td>\n",
       "      <td>*</td>\n",
       "      <td>*</td>\n",
       "      <td>...</td>\n",
       "      <td>29.74</td>\n",
       "      <td>******</td>\n",
       "      <td>NaN</td>\n",
       "      <td>***</td>\n",
       "      <td>*****</td>\n",
       "      <td>*****</td>\n",
       "      <td>*****</td>\n",
       "      <td>*****</td>\n",
       "      <td>**</td>\n",
       "      <td>0.0</td>\n",
       "    </tr>\n",
       "    <tr>\n",
       "      <th>3</th>\n",
       "      <td>31.0</td>\n",
       "      <td>99999</td>\n",
       "      <td>201705010100</td>\n",
       "      <td>188</td>\n",
       "      <td>12</td>\n",
       "      <td>16</td>\n",
       "      <td>***</td>\n",
       "      <td>***</td>\n",
       "      <td>*</td>\n",
       "      <td>*</td>\n",
       "      <td>...</td>\n",
       "      <td>*****</td>\n",
       "      <td>984.0</td>\n",
       "      <td>NaN</td>\n",
       "      <td>***</td>\n",
       "      <td>*****</td>\n",
       "      <td>*****</td>\n",
       "      <td>*****</td>\n",
       "      <td>*****</td>\n",
       "      <td>35</td>\n",
       "      <td>0.0</td>\n",
       "    </tr>\n",
       "    <tr>\n",
       "      <th>4</th>\n",
       "      <td>30.0</td>\n",
       "      <td>99999</td>\n",
       "      <td>201705010120</td>\n",
       "      <td>200</td>\n",
       "      <td>13</td>\n",
       "      <td>***</td>\n",
       "      <td>2</td>\n",
       "      <td>OBS</td>\n",
       "      <td>*</td>\n",
       "      <td>*</td>\n",
       "      <td>...</td>\n",
       "      <td>29.74</td>\n",
       "      <td>******</td>\n",
       "      <td>NaN</td>\n",
       "      <td>***</td>\n",
       "      <td>*****</td>\n",
       "      <td>*****</td>\n",
       "      <td>*****</td>\n",
       "      <td>*****</td>\n",
       "      <td>**</td>\n",
       "      <td>0.0</td>\n",
       "    </tr>\n",
       "  </tbody>\n",
       "</table>\n",
       "<p>5 rows × 34 columns</p>\n",
       "</div>"
      ],
      "text/plain": [
       "   USAF   WBAN  YR--MODAHRMN  DIR SPD  GUS  CLG  SKC  L  M  ...    ALT  \\\n",
       "0  31.0  99999  201705010000  174  10   14  ***  ***  *  *  ...  *****   \n",
       "1  30.0  99999  201705010020  180  10  ***    4  ***  *  *  ...  29.74   \n",
       "2  30.0  99999  201705010050  190  10  ***    4  ***  *  *  ...  29.74   \n",
       "3  31.0  99999  201705010100  188  12   16  ***  ***  *  *  ...  *****   \n",
       "4  30.0  99999  201705010120  200  13  ***    2  OBS  *  *  ...  29.74   \n",
       "\n",
       "      STP MAX  MIN  PCP01  PCP06  PCP24  PCPXX  SD CELSIUS  \n",
       "0   984.1 NaN  ***  *****  *****  *****  *****  35     0.0  \n",
       "1  ****** NaN  ***  *****  *****  *****  *****  **     0.0  \n",
       "2  ****** NaN  ***  *****  *****  *****  *****  **     0.0  \n",
       "3   984.0 NaN  ***  *****  *****  *****  *****  35     0.0  \n",
       "4  ****** NaN  ***  *****  *****  *****  *****  **     0.0  \n",
       "\n",
       "[5 rows x 34 columns]"
      ]
     },
     "execution_count": 45,
     "metadata": {},
     "output_type": "execute_result"
    }
   ],
   "source": [
    "data[\"CELSIUS\"] = 0.0\n",
    "data.head()"
   ]
  },
  {
   "cell_type": "code",
   "execution_count": 46,
   "id": "f1584749-72f9-41b8-a01e-5e14e0ae3a45",
   "metadata": {},
   "outputs": [
    {
     "data": {
      "text/html": [
       "<div>\n",
       "<style scoped>\n",
       "    .dataframe tbody tr th:only-of-type {\n",
       "        vertical-align: middle;\n",
       "    }\n",
       "\n",
       "    .dataframe tbody tr th {\n",
       "        vertical-align: top;\n",
       "    }\n",
       "\n",
       "    .dataframe thead th {\n",
       "        text-align: right;\n",
       "    }\n",
       "</style>\n",
       "<table border=\"1\" class=\"dataframe\">\n",
       "  <thead>\n",
       "    <tr style=\"text-align: right;\">\n",
       "      <th></th>\n",
       "      <th>USAF</th>\n",
       "      <th>YR--MODAHRMN</th>\n",
       "      <th>TEMP</th>\n",
       "      <th>MAX</th>\n",
       "      <th>MIN</th>\n",
       "      <th>CELSIUS</th>\n",
       "    </tr>\n",
       "  </thead>\n",
       "  <tbody>\n",
       "    <tr>\n",
       "      <th>0</th>\n",
       "      <td>31.0</td>\n",
       "      <td>201705010000</td>\n",
       "      <td>31.0</td>\n",
       "      <td>NaN</td>\n",
       "      <td>***</td>\n",
       "      <td>-0.555556</td>\n",
       "    </tr>\n",
       "    <tr>\n",
       "      <th>1</th>\n",
       "      <td>30.0</td>\n",
       "      <td>201705010020</td>\n",
       "      <td>30.0</td>\n",
       "      <td>NaN</td>\n",
       "      <td>***</td>\n",
       "      <td>-1.111111</td>\n",
       "    </tr>\n",
       "    <tr>\n",
       "      <th>2</th>\n",
       "      <td>30.0</td>\n",
       "      <td>201705010050</td>\n",
       "      <td>30.0</td>\n",
       "      <td>NaN</td>\n",
       "      <td>***</td>\n",
       "      <td>-1.111111</td>\n",
       "    </tr>\n",
       "    <tr>\n",
       "      <th>3</th>\n",
       "      <td>31.0</td>\n",
       "      <td>201705010100</td>\n",
       "      <td>31.0</td>\n",
       "      <td>NaN</td>\n",
       "      <td>***</td>\n",
       "      <td>-0.555556</td>\n",
       "    </tr>\n",
       "    <tr>\n",
       "      <th>4</th>\n",
       "      <td>30.0</td>\n",
       "      <td>201705010120</td>\n",
       "      <td>30.0</td>\n",
       "      <td>NaN</td>\n",
       "      <td>***</td>\n",
       "      <td>-1.111111</td>\n",
       "    </tr>\n",
       "    <tr>\n",
       "      <th>...</th>\n",
       "      <td>...</td>\n",
       "      <td>...</td>\n",
       "      <td>...</td>\n",
       "      <td>...</td>\n",
       "      <td>...</td>\n",
       "      <td>...</td>\n",
       "    </tr>\n",
       "    <tr>\n",
       "      <th>11689</th>\n",
       "      <td>64.0</td>\n",
       "      <td>201708311900</td>\n",
       "      <td>64.0</td>\n",
       "      <td>NaN</td>\n",
       "      <td>***</td>\n",
       "      <td>17.777778</td>\n",
       "    </tr>\n",
       "    <tr>\n",
       "      <th>11690</th>\n",
       "      <td>64.0</td>\n",
       "      <td>201708312000</td>\n",
       "      <td>64.0</td>\n",
       "      <td>NaN</td>\n",
       "      <td>***</td>\n",
       "      <td>17.777778</td>\n",
       "    </tr>\n",
       "    <tr>\n",
       "      <th>11691</th>\n",
       "      <td>64.0</td>\n",
       "      <td>201708312100</td>\n",
       "      <td>64.0</td>\n",
       "      <td>NaN</td>\n",
       "      <td>***</td>\n",
       "      <td>17.777778</td>\n",
       "    </tr>\n",
       "    <tr>\n",
       "      <th>11692</th>\n",
       "      <td>64.0</td>\n",
       "      <td>201708312200</td>\n",
       "      <td>64.0</td>\n",
       "      <td>NaN</td>\n",
       "      <td>***</td>\n",
       "      <td>17.777778</td>\n",
       "    </tr>\n",
       "    <tr>\n",
       "      <th>11693</th>\n",
       "      <td>64.0</td>\n",
       "      <td>201708312300</td>\n",
       "      <td>64.0</td>\n",
       "      <td>NaN</td>\n",
       "      <td>***</td>\n",
       "      <td>17.777778</td>\n",
       "    </tr>\n",
       "  </tbody>\n",
       "</table>\n",
       "<p>11694 rows × 6 columns</p>\n",
       "</div>"
      ],
      "text/plain": [
       "       USAF  YR--MODAHRMN  TEMP  MAX  MIN    CELSIUS\n",
       "0      31.0  201705010000  31.0  NaN  ***  -0.555556\n",
       "1      30.0  201705010020  30.0  NaN  ***  -1.111111\n",
       "2      30.0  201705010050  30.0  NaN  ***  -1.111111\n",
       "3      31.0  201705010100  31.0  NaN  ***  -0.555556\n",
       "4      30.0  201705010120  30.0  NaN  ***  -1.111111\n",
       "...     ...           ...   ...  ...  ...        ...\n",
       "11689  64.0  201708311900  64.0  NaN  ***  17.777778\n",
       "11690  64.0  201708312000  64.0  NaN  ***  17.777778\n",
       "11691  64.0  201708312100  64.0  NaN  ***  17.777778\n",
       "11692  64.0  201708312200  64.0  NaN  ***  17.777778\n",
       "11693  64.0  201708312300  64.0  NaN  ***  17.777778\n",
       "\n",
       "[11694 rows x 6 columns]"
      ]
     },
     "execution_count": 46,
     "metadata": {},
     "output_type": "execute_result"
    }
   ],
   "source": [
    "TempFahrenheit = selected['TEMP']\n",
    "TempCelsius = (TempFahrenheit - 32) / 1.8\n",
    "data[\"CELSIUS\"] = TempCelsius\n",
    "\n",
    "selected = data[['USAF', 'YR--MODAHRMN', 'TEMP', 'MAX', 'MIN', 'CELSIUS']]\n",
    "selected"
   ]
  },
  {
   "cell_type": "markdown",
   "id": "452be51a-1ec6-4d83-8ac1-6e6cc8b8744a",
   "metadata": {},
   "source": [
    "## Problem 3"
   ]
  },
  {
   "cell_type": "code",
   "execution_count": 65,
   "id": "10b587fa-d64a-4e6b-abcd-67d0895978af",
   "metadata": {},
   "outputs": [],
   "source": [
    "data = pd.read_csv(\"data/6153237444115dat.csv\")"
   ]
  },
  {
   "cell_type": "code",
   "execution_count": 66,
   "id": "f75806f8-28bd-4114-a594-14f95136d064",
   "metadata": {},
   "outputs": [
    {
     "data": {
      "text/html": [
       "<div>\n",
       "<style scoped>\n",
       "    .dataframe tbody tr th:only-of-type {\n",
       "        vertical-align: middle;\n",
       "    }\n",
       "\n",
       "    .dataframe tbody tr th {\n",
       "        vertical-align: top;\n",
       "    }\n",
       "\n",
       "    .dataframe thead th {\n",
       "        text-align: right;\n",
       "    }\n",
       "</style>\n",
       "<table border=\"1\" class=\"dataframe\">\n",
       "  <thead>\n",
       "    <tr style=\"text-align: right;\">\n",
       "      <th></th>\n",
       "      <th>USAF</th>\n",
       "      <th>WBAN</th>\n",
       "      <th>YR--MODAHRMN</th>\n",
       "      <th>DIR</th>\n",
       "      <th>SPD</th>\n",
       "      <th>GUS</th>\n",
       "      <th>CLG</th>\n",
       "      <th>SKC</th>\n",
       "      <th>L</th>\n",
       "      <th>M</th>\n",
       "      <th>...</th>\n",
       "      <th>SLP</th>\n",
       "      <th>ALT</th>\n",
       "      <th>STP</th>\n",
       "      <th>MAX</th>\n",
       "      <th>MIN</th>\n",
       "      <th>PCP01</th>\n",
       "      <th>PCP06</th>\n",
       "      <th>PCP24</th>\n",
       "      <th>PCPXX</th>\n",
       "      <th>SD</th>\n",
       "    </tr>\n",
       "  </thead>\n",
       "  <tbody>\n",
       "    <tr>\n",
       "      <th>0</th>\n",
       "      <td>28450</td>\n",
       "      <td>99999</td>\n",
       "      <td>201705010000</td>\n",
       "      <td>174</td>\n",
       "      <td>10</td>\n",
       "      <td>14</td>\n",
       "      <td>***</td>\n",
       "      <td>***</td>\n",
       "      <td>*</td>\n",
       "      <td>*</td>\n",
       "      <td>...</td>\n",
       "      <td>1009.2</td>\n",
       "      <td>*****</td>\n",
       "      <td>984.1</td>\n",
       "      <td>***</td>\n",
       "      <td>***</td>\n",
       "      <td>*****</td>\n",
       "      <td>*****</td>\n",
       "      <td>*****</td>\n",
       "      <td>*****</td>\n",
       "      <td>35</td>\n",
       "    </tr>\n",
       "    <tr>\n",
       "      <th>1</th>\n",
       "      <td>28450</td>\n",
       "      <td>99999</td>\n",
       "      <td>201705010020</td>\n",
       "      <td>180</td>\n",
       "      <td>10</td>\n",
       "      <td>***</td>\n",
       "      <td>4</td>\n",
       "      <td>***</td>\n",
       "      <td>*</td>\n",
       "      <td>*</td>\n",
       "      <td>...</td>\n",
       "      <td>******</td>\n",
       "      <td>29.74</td>\n",
       "      <td>******</td>\n",
       "      <td>***</td>\n",
       "      <td>***</td>\n",
       "      <td>*****</td>\n",
       "      <td>*****</td>\n",
       "      <td>*****</td>\n",
       "      <td>*****</td>\n",
       "      <td>**</td>\n",
       "    </tr>\n",
       "    <tr>\n",
       "      <th>2</th>\n",
       "      <td>28450</td>\n",
       "      <td>99999</td>\n",
       "      <td>201705010050</td>\n",
       "      <td>190</td>\n",
       "      <td>10</td>\n",
       "      <td>***</td>\n",
       "      <td>4</td>\n",
       "      <td>***</td>\n",
       "      <td>*</td>\n",
       "      <td>*</td>\n",
       "      <td>...</td>\n",
       "      <td>******</td>\n",
       "      <td>29.74</td>\n",
       "      <td>******</td>\n",
       "      <td>***</td>\n",
       "      <td>***</td>\n",
       "      <td>*****</td>\n",
       "      <td>*****</td>\n",
       "      <td>*****</td>\n",
       "      <td>*****</td>\n",
       "      <td>**</td>\n",
       "    </tr>\n",
       "    <tr>\n",
       "      <th>3</th>\n",
       "      <td>28450</td>\n",
       "      <td>99999</td>\n",
       "      <td>201705010100</td>\n",
       "      <td>188</td>\n",
       "      <td>12</td>\n",
       "      <td>16</td>\n",
       "      <td>***</td>\n",
       "      <td>***</td>\n",
       "      <td>*</td>\n",
       "      <td>*</td>\n",
       "      <td>...</td>\n",
       "      <td>1009.1</td>\n",
       "      <td>*****</td>\n",
       "      <td>984.0</td>\n",
       "      <td>***</td>\n",
       "      <td>***</td>\n",
       "      <td>*****</td>\n",
       "      <td>*****</td>\n",
       "      <td>*****</td>\n",
       "      <td>*****</td>\n",
       "      <td>35</td>\n",
       "    </tr>\n",
       "    <tr>\n",
       "      <th>4</th>\n",
       "      <td>28450</td>\n",
       "      <td>99999</td>\n",
       "      <td>201705010120</td>\n",
       "      <td>200</td>\n",
       "      <td>13</td>\n",
       "      <td>***</td>\n",
       "      <td>2</td>\n",
       "      <td>OBS</td>\n",
       "      <td>*</td>\n",
       "      <td>*</td>\n",
       "      <td>...</td>\n",
       "      <td>******</td>\n",
       "      <td>29.74</td>\n",
       "      <td>******</td>\n",
       "      <td>***</td>\n",
       "      <td>***</td>\n",
       "      <td>*****</td>\n",
       "      <td>*****</td>\n",
       "      <td>*****</td>\n",
       "      <td>*****</td>\n",
       "      <td>**</td>\n",
       "    </tr>\n",
       "  </tbody>\n",
       "</table>\n",
       "<p>5 rows × 33 columns</p>\n",
       "</div>"
      ],
      "text/plain": [
       "    USAF   WBAN  YR--MODAHRMN  DIR SPD  GUS  CLG  SKC  L  M  ...     SLP  \\\n",
       "0  28450  99999  201705010000  174  10   14  ***  ***  *  *  ...  1009.2   \n",
       "1  28450  99999  201705010020  180  10  ***    4  ***  *  *  ...  ******   \n",
       "2  28450  99999  201705010050  190  10  ***    4  ***  *  *  ...  ******   \n",
       "3  28450  99999  201705010100  188  12   16  ***  ***  *  *  ...  1009.1   \n",
       "4  28450  99999  201705010120  200  13  ***    2  OBS  *  *  ...  ******   \n",
       "\n",
       "     ALT     STP  MAX  MIN  PCP01  PCP06  PCP24  PCPXX  SD  \n",
       "0  *****   984.1  ***  ***  *****  *****  *****  *****  35  \n",
       "1  29.74  ******  ***  ***  *****  *****  *****  *****  **  \n",
       "2  29.74  ******  ***  ***  *****  *****  *****  *****  **  \n",
       "3  *****   984.0  ***  ***  *****  *****  *****  *****  35  \n",
       "4  29.74  ******  ***  ***  *****  *****  *****  *****  **  \n",
       "\n",
       "[5 rows x 33 columns]"
      ]
     },
     "execution_count": 66,
     "metadata": {},
     "output_type": "execute_result"
    }
   ],
   "source": [
    "data.head()"
   ]
  },
  {
   "cell_type": "code",
   "execution_count": 84,
   "id": "a927ac06-58c1-438c-ba32-84a4ff6715e6",
   "metadata": {},
   "outputs": [
    {
     "data": {
      "text/html": [
       "<div>\n",
       "<style scoped>\n",
       "    .dataframe tbody tr th:only-of-type {\n",
       "        vertical-align: middle;\n",
       "    }\n",
       "\n",
       "    .dataframe tbody tr th {\n",
       "        vertical-align: top;\n",
       "    }\n",
       "\n",
       "    .dataframe thead th {\n",
       "        text-align: right;\n",
       "    }\n",
       "</style>\n",
       "<table border=\"1\" class=\"dataframe\">\n",
       "  <thead>\n",
       "    <tr style=\"text-align: right;\">\n",
       "      <th></th>\n",
       "      <th>USAF</th>\n",
       "      <th>YR--MODAHRMN</th>\n",
       "      <th>TEMP</th>\n",
       "      <th>MAX</th>\n",
       "      <th>MIN</th>\n",
       "    </tr>\n",
       "  </thead>\n",
       "  <tbody>\n",
       "    <tr>\n",
       "      <th>0</th>\n",
       "      <td>28450</td>\n",
       "      <td>201705010000</td>\n",
       "      <td>31</td>\n",
       "      <td>***</td>\n",
       "      <td>***</td>\n",
       "    </tr>\n",
       "    <tr>\n",
       "      <th>1</th>\n",
       "      <td>28450</td>\n",
       "      <td>201705010020</td>\n",
       "      <td>30</td>\n",
       "      <td>***</td>\n",
       "      <td>***</td>\n",
       "    </tr>\n",
       "    <tr>\n",
       "      <th>2</th>\n",
       "      <td>28450</td>\n",
       "      <td>201705010050</td>\n",
       "      <td>30</td>\n",
       "      <td>***</td>\n",
       "      <td>***</td>\n",
       "    </tr>\n",
       "    <tr>\n",
       "      <th>3</th>\n",
       "      <td>28450</td>\n",
       "      <td>201705010100</td>\n",
       "      <td>31</td>\n",
       "      <td>***</td>\n",
       "      <td>***</td>\n",
       "    </tr>\n",
       "    <tr>\n",
       "      <th>4</th>\n",
       "      <td>28450</td>\n",
       "      <td>201705010120</td>\n",
       "      <td>30</td>\n",
       "      <td>***</td>\n",
       "      <td>***</td>\n",
       "    </tr>\n",
       "    <tr>\n",
       "      <th>...</th>\n",
       "      <td>...</td>\n",
       "      <td>...</td>\n",
       "      <td>...</td>\n",
       "      <td>...</td>\n",
       "      <td>...</td>\n",
       "    </tr>\n",
       "    <tr>\n",
       "      <th>11689</th>\n",
       "      <td>29980</td>\n",
       "      <td>201708311900</td>\n",
       "      <td>64</td>\n",
       "      <td>***</td>\n",
       "      <td>***</td>\n",
       "    </tr>\n",
       "    <tr>\n",
       "      <th>11690</th>\n",
       "      <td>29980</td>\n",
       "      <td>201708312000</td>\n",
       "      <td>64</td>\n",
       "      <td>***</td>\n",
       "      <td>***</td>\n",
       "    </tr>\n",
       "    <tr>\n",
       "      <th>11691</th>\n",
       "      <td>29980</td>\n",
       "      <td>201708312100</td>\n",
       "      <td>64</td>\n",
       "      <td>***</td>\n",
       "      <td>***</td>\n",
       "    </tr>\n",
       "    <tr>\n",
       "      <th>11692</th>\n",
       "      <td>29980</td>\n",
       "      <td>201708312200</td>\n",
       "      <td>64</td>\n",
       "      <td>***</td>\n",
       "      <td>***</td>\n",
       "    </tr>\n",
       "    <tr>\n",
       "      <th>11693</th>\n",
       "      <td>29980</td>\n",
       "      <td>201708312300</td>\n",
       "      <td>64</td>\n",
       "      <td>***</td>\n",
       "      <td>***</td>\n",
       "    </tr>\n",
       "  </tbody>\n",
       "</table>\n",
       "<p>11694 rows × 5 columns</p>\n",
       "</div>"
      ],
      "text/plain": [
       "        USAF  YR--MODAHRMN TEMP  MAX  MIN\n",
       "0      28450  201705010000   31  ***  ***\n",
       "1      28450  201705010020   30  ***  ***\n",
       "2      28450  201705010050   30  ***  ***\n",
       "3      28450  201705010100   31  ***  ***\n",
       "4      28450  201705010120   30  ***  ***\n",
       "...      ...           ...  ...  ...  ...\n",
       "11689  29980  201708311900   64  ***  ***\n",
       "11690  29980  201708312000   64  ***  ***\n",
       "11691  29980  201708312100   64  ***  ***\n",
       "11692  29980  201708312200   64  ***  ***\n",
       "11693  29980  201708312300   64  ***  ***\n",
       "\n",
       "[11694 rows x 5 columns]"
      ]
     },
     "execution_count": 84,
     "metadata": {},
     "output_type": "execute_result"
    }
   ],
   "source": [
    "selected = data[['USAF', 'YR--MODAHRMN', 'TEMP', 'MAX', 'MIN']]\n",
    "selected"
   ]
  },
  {
   "cell_type": "code",
   "execution_count": 86,
   "id": "48266f41-8782-47d0-a0f8-7075651592a4",
   "metadata": {},
   "outputs": [
    {
     "data": {
      "text/html": [
       "<div>\n",
       "<style scoped>\n",
       "    .dataframe tbody tr th:only-of-type {\n",
       "        vertical-align: middle;\n",
       "    }\n",
       "\n",
       "    .dataframe tbody tr th {\n",
       "        vertical-align: top;\n",
       "    }\n",
       "\n",
       "    .dataframe thead th {\n",
       "        text-align: right;\n",
       "    }\n",
       "</style>\n",
       "<table border=\"1\" class=\"dataframe\">\n",
       "  <thead>\n",
       "    <tr style=\"text-align: right;\">\n",
       "      <th></th>\n",
       "      <th>USAF</th>\n",
       "      <th>YR--MODAHRMN</th>\n",
       "      <th>TEMP</th>\n",
       "      <th>MAX</th>\n",
       "      <th>MIN</th>\n",
       "    </tr>\n",
       "  </thead>\n",
       "  <tbody>\n",
       "    <tr>\n",
       "      <th>8770</th>\n",
       "      <td>29980</td>\n",
       "      <td>201705010000</td>\n",
       "      <td>37</td>\n",
       "      <td>***</td>\n",
       "      <td>***</td>\n",
       "    </tr>\n",
       "    <tr>\n",
       "      <th>8771</th>\n",
       "      <td>29980</td>\n",
       "      <td>201705010100</td>\n",
       "      <td>37</td>\n",
       "      <td>***</td>\n",
       "      <td>***</td>\n",
       "    </tr>\n",
       "    <tr>\n",
       "      <th>8772</th>\n",
       "      <td>29980</td>\n",
       "      <td>201705010200</td>\n",
       "      <td>37</td>\n",
       "      <td>***</td>\n",
       "      <td>***</td>\n",
       "    </tr>\n",
       "    <tr>\n",
       "      <th>8773</th>\n",
       "      <td>29980</td>\n",
       "      <td>201705010300</td>\n",
       "      <td>37</td>\n",
       "      <td>***</td>\n",
       "      <td>***</td>\n",
       "    </tr>\n",
       "    <tr>\n",
       "      <th>8774</th>\n",
       "      <td>29980</td>\n",
       "      <td>201705010400</td>\n",
       "      <td>39</td>\n",
       "      <td>***</td>\n",
       "      <td>***</td>\n",
       "    </tr>\n",
       "    <tr>\n",
       "      <th>...</th>\n",
       "      <td>...</td>\n",
       "      <td>...</td>\n",
       "      <td>...</td>\n",
       "      <td>...</td>\n",
       "      <td>...</td>\n",
       "    </tr>\n",
       "    <tr>\n",
       "      <th>11689</th>\n",
       "      <td>29980</td>\n",
       "      <td>201708311900</td>\n",
       "      <td>64</td>\n",
       "      <td>***</td>\n",
       "      <td>***</td>\n",
       "    </tr>\n",
       "    <tr>\n",
       "      <th>11690</th>\n",
       "      <td>29980</td>\n",
       "      <td>201708312000</td>\n",
       "      <td>64</td>\n",
       "      <td>***</td>\n",
       "      <td>***</td>\n",
       "    </tr>\n",
       "    <tr>\n",
       "      <th>11691</th>\n",
       "      <td>29980</td>\n",
       "      <td>201708312100</td>\n",
       "      <td>64</td>\n",
       "      <td>***</td>\n",
       "      <td>***</td>\n",
       "    </tr>\n",
       "    <tr>\n",
       "      <th>11692</th>\n",
       "      <td>29980</td>\n",
       "      <td>201708312200</td>\n",
       "      <td>64</td>\n",
       "      <td>***</td>\n",
       "      <td>***</td>\n",
       "    </tr>\n",
       "    <tr>\n",
       "      <th>11693</th>\n",
       "      <td>29980</td>\n",
       "      <td>201708312300</td>\n",
       "      <td>64</td>\n",
       "      <td>***</td>\n",
       "      <td>***</td>\n",
       "    </tr>\n",
       "  </tbody>\n",
       "</table>\n",
       "<p>2924 rows × 5 columns</p>\n",
       "</div>"
      ],
      "text/plain": [
       "        USAF  YR--MODAHRMN TEMP  MAX  MIN\n",
       "8770   29980  201705010000   37  ***  ***\n",
       "8771   29980  201705010100   37  ***  ***\n",
       "8772   29980  201705010200   37  ***  ***\n",
       "8773   29980  201705010300   37  ***  ***\n",
       "8774   29980  201705010400   39  ***  ***\n",
       "...      ...           ...  ...  ...  ...\n",
       "11689  29980  201708311900   64  ***  ***\n",
       "11690  29980  201708312000   64  ***  ***\n",
       "11691  29980  201708312100   64  ***  ***\n",
       "11692  29980  201708312200   64  ***  ***\n",
       "11693  29980  201708312300   64  ***  ***\n",
       "\n",
       "[2924 rows x 5 columns]"
      ]
     },
     "execution_count": 86,
     "metadata": {},
     "output_type": "execute_result"
    }
   ],
   "source": [
    "selection_USAF1 = [29980]\n",
    "kumpula = selected.loc[selected[\"USAF\"].isin(selection_USAF1)]\n",
    "kumpula"
   ]
  },
  {
   "cell_type": "code",
   "execution_count": 99,
   "id": "b866ab33-ef71-44a4-9f7a-723a20110a46",
   "metadata": {},
   "outputs": [],
   "source": [
    "kumpula.to_csv(\"Kumpula_temps_May_Aug_2017.csv\", sep=',', float_format='%.2f')"
   ]
  },
  {
   "cell_type": "code",
   "execution_count": 100,
   "id": "3dafd6b4-7423-4c3c-8773-4524e3a246a6",
   "metadata": {},
   "outputs": [
    {
     "data": {
      "text/html": [
       "<div>\n",
       "<style scoped>\n",
       "    .dataframe tbody tr th:only-of-type {\n",
       "        vertical-align: middle;\n",
       "    }\n",
       "\n",
       "    .dataframe tbody tr th {\n",
       "        vertical-align: top;\n",
       "    }\n",
       "\n",
       "    .dataframe thead th {\n",
       "        text-align: right;\n",
       "    }\n",
       "</style>\n",
       "<table border=\"1\" class=\"dataframe\">\n",
       "  <thead>\n",
       "    <tr style=\"text-align: right;\">\n",
       "      <th></th>\n",
       "      <th>USAF</th>\n",
       "      <th>YR--MODAHRMN</th>\n",
       "      <th>TEMP</th>\n",
       "      <th>MAX</th>\n",
       "      <th>MIN</th>\n",
       "    </tr>\n",
       "  </thead>\n",
       "  <tbody>\n",
       "    <tr>\n",
       "      <th>0</th>\n",
       "      <td>28450</td>\n",
       "      <td>201705010000</td>\n",
       "      <td>31</td>\n",
       "      <td>***</td>\n",
       "      <td>***</td>\n",
       "    </tr>\n",
       "    <tr>\n",
       "      <th>1</th>\n",
       "      <td>28450</td>\n",
       "      <td>201705010020</td>\n",
       "      <td>30</td>\n",
       "      <td>***</td>\n",
       "      <td>***</td>\n",
       "    </tr>\n",
       "    <tr>\n",
       "      <th>2</th>\n",
       "      <td>28450</td>\n",
       "      <td>201705010050</td>\n",
       "      <td>30</td>\n",
       "      <td>***</td>\n",
       "      <td>***</td>\n",
       "    </tr>\n",
       "    <tr>\n",
       "      <th>3</th>\n",
       "      <td>28450</td>\n",
       "      <td>201705010100</td>\n",
       "      <td>31</td>\n",
       "      <td>***</td>\n",
       "      <td>***</td>\n",
       "    </tr>\n",
       "    <tr>\n",
       "      <th>4</th>\n",
       "      <td>28450</td>\n",
       "      <td>201705010120</td>\n",
       "      <td>30</td>\n",
       "      <td>***</td>\n",
       "      <td>***</td>\n",
       "    </tr>\n",
       "    <tr>\n",
       "      <th>...</th>\n",
       "      <td>...</td>\n",
       "      <td>...</td>\n",
       "      <td>...</td>\n",
       "      <td>...</td>\n",
       "      <td>...</td>\n",
       "    </tr>\n",
       "    <tr>\n",
       "      <th>8765</th>\n",
       "      <td>28450</td>\n",
       "      <td>201708312220</td>\n",
       "      <td>46</td>\n",
       "      <td>***</td>\n",
       "      <td>***</td>\n",
       "    </tr>\n",
       "    <tr>\n",
       "      <th>8766</th>\n",
       "      <td>28450</td>\n",
       "      <td>201708312250</td>\n",
       "      <td>46</td>\n",
       "      <td>***</td>\n",
       "      <td>***</td>\n",
       "    </tr>\n",
       "    <tr>\n",
       "      <th>8767</th>\n",
       "      <td>28450</td>\n",
       "      <td>201708312300</td>\n",
       "      <td>48</td>\n",
       "      <td>***</td>\n",
       "      <td>***</td>\n",
       "    </tr>\n",
       "    <tr>\n",
       "      <th>8768</th>\n",
       "      <td>28450</td>\n",
       "      <td>201708312320</td>\n",
       "      <td>46</td>\n",
       "      <td>***</td>\n",
       "      <td>***</td>\n",
       "    </tr>\n",
       "    <tr>\n",
       "      <th>8769</th>\n",
       "      <td>28450</td>\n",
       "      <td>201708312350</td>\n",
       "      <td>48</td>\n",
       "      <td>***</td>\n",
       "      <td>***</td>\n",
       "    </tr>\n",
       "  </tbody>\n",
       "</table>\n",
       "<p>8770 rows × 5 columns</p>\n",
       "</div>"
      ],
      "text/plain": [
       "       USAF  YR--MODAHRMN TEMP  MAX  MIN\n",
       "0     28450  201705010000   31  ***  ***\n",
       "1     28450  201705010020   30  ***  ***\n",
       "2     28450  201705010050   30  ***  ***\n",
       "3     28450  201705010100   31  ***  ***\n",
       "4     28450  201705010120   30  ***  ***\n",
       "...     ...           ...  ...  ...  ...\n",
       "8765  28450  201708312220   46  ***  ***\n",
       "8766  28450  201708312250   46  ***  ***\n",
       "8767  28450  201708312300   48  ***  ***\n",
       "8768  28450  201708312320   46  ***  ***\n",
       "8769  28450  201708312350   48  ***  ***\n",
       "\n",
       "[8770 rows x 5 columns]"
      ]
     },
     "execution_count": 100,
     "metadata": {},
     "output_type": "execute_result"
    }
   ],
   "source": [
    "selection_USAF2 = [28450]\n",
    "rovaniemi = selected.loc[selected[\"USAF\"].isin(selection_USAF2)]\n",
    "rovaniemi"
   ]
  },
  {
   "cell_type": "code",
   "execution_count": 101,
   "id": "78486fee-4e70-445e-943e-ef015834de1e",
   "metadata": {},
   "outputs": [],
   "source": [
    "rovaniemi.to_csv(\"Rovaniemi_temps_May_Aug_2017.csv\", sep=',', float_format='%.2f')"
   ]
  }
 ],
 "metadata": {
  "kernelspec": {
   "display_name": "Python 3 (ipykernel)",
   "language": "python",
   "name": "python3"
  },
  "language_info": {
   "codemirror_mode": {
    "name": "ipython",
    "version": 3
   },
   "file_extension": ".py",
   "mimetype": "text/x-python",
   "name": "python",
   "nbconvert_exporter": "python",
   "pygments_lexer": "ipython3",
   "version": "3.9.15"
  }
 },
 "nbformat": 4,
 "nbformat_minor": 5
}
